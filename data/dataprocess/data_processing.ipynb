{
 "cells": [
  {
   "cell_type": "code",
   "execution_count": 1,
   "id": "2052dd9e-0f18-49dd-a691-6af6ca394634",
   "metadata": {
    "execution": {
     "iopub.execute_input": "2022-04-24T09:57:14.103553Z",
     "iopub.status.busy": "2022-04-24T09:57:14.103326Z",
     "iopub.status.idle": "2022-04-24T09:57:43.792382Z",
     "shell.execute_reply": "2022-04-24T09:57:43.791772Z",
     "shell.execute_reply.started": "2022-04-24T09:57:14.103529Z"
    },
    "tags": [],
    "vscode": {
     "languageId": "json"
    }
   },
   "outputs": [
    {
     "data": {
      "application/vnd.jupyter.widget-view+json": {
       "model_id": "f5bb4cea61354bdda0e2348a95e3d003",
       "version_major": 2,
       "version_minor": 0
      },
      "text/plain": [
       "VBox()"
      ]
     },
     "metadata": {},
     "output_type": "display_data"
    },
    {
     "name": "stdout",
     "output_type": "stream",
     "text": [
      "Starting Spark application\n"
     ]
    },
    {
     "data": {
      "text/html": [
       "<table>\n",
       "<tr><th>ID</th><th>YARN Application ID</th><th>Kind</th><th>State</th><th>Spark UI</th><th>Driver log</th><th>User</th><th>Current session?</th></tr><tr><td>0</td><td>application_1650793755033_0001</td><td>pyspark</td><td>idle</td><td><a target=\"_blank\" href=\"http://ip-172-31-85-105.ec2.internal:20888/proxy/application_1650793755033_0001/\" class=\"emr-proxy-link\" emr-resource=\"j-MW8FSHK8LXAF\n",
       "\" application-id=\"application_1650793755033_0001\">Link</a></td><td><a target=\"_blank\" href=\"http://ip-172-31-93-254.ec2.internal:8042/node/containerlogs/container_1650793755033_0001_01_000001/livy\" >Link</a></td><td>None</td><td>✔</td></tr></table>"
      ],
      "text/plain": [
       "<IPython.core.display.HTML object>"
      ]
     },
     "metadata": {},
     "output_type": "display_data"
    },
    {
     "data": {
      "application/vnd.jupyter.widget-view+json": {
       "model_id": "",
       "version_major": 2,
       "version_minor": 0
      },
      "text/plain": [
       "FloatProgress(value=0.0, bar_style='info', description='Progress:', layout=Layout(height='25px', width='50%'),…"
      ]
     },
     "metadata": {},
     "output_type": "display_data"
    },
    {
     "name": "stdout",
     "output_type": "stream",
     "text": [
      "SparkSession available as 'spark'.\n"
     ]
    },
    {
     "data": {
      "application/vnd.jupyter.widget-view+json": {
       "model_id": "",
       "version_major": 2,
       "version_minor": 0
      },
      "text/plain": [
       "FloatProgress(value=0.0, bar_style='info', description='Progress:', layout=Layout(height='25px', width='50%'),…"
      ]
     },
     "metadata": {},
     "output_type": "display_data"
    },
    {
     "name": "stdout",
     "output_type": "stream",
     "text": [
      "<SparkContext master=yarn appName=livy-session-0>"
     ]
    }
   ],
   "source": [
    "sc"
   ]
  },
  {
   "cell_type": "code",
   "execution_count": 2,
   "id": "85aedd02-453f-439b-bf25-c057bce4b01f",
   "metadata": {
    "execution": {
     "iopub.execute_input": "2022-04-24T09:57:43.797067Z",
     "iopub.status.busy": "2022-04-24T09:57:43.796903Z",
     "iopub.status.idle": "2022-04-24T09:57:44.076748Z",
     "shell.execute_reply": "2022-04-24T09:57:44.076057Z",
     "shell.execute_reply.started": "2022-04-24T09:57:43.797046Z"
    },
    "tags": [],
    "vscode": {
     "languageId": "json"
    }
   },
   "outputs": [
    {
     "data": {
      "application/vnd.jupyter.widget-view+json": {
       "model_id": "e75277a99ad84e35b35d6b1cb2ff3193",
       "version_major": 2,
       "version_minor": 0
      },
      "text/plain": [
       "VBox()"
      ]
     },
     "metadata": {},
     "output_type": "display_data"
    },
    {
     "data": {
      "application/vnd.jupyter.widget-view+json": {
       "model_id": "",
       "version_major": 2,
       "version_minor": 0
      },
      "text/plain": [
       "FloatProgress(value=0.0, bar_style='info', description='Progress:', layout=Layout(height='25px', width='50%'),…"
      ]
     },
     "metadata": {},
     "output_type": "display_data"
    }
   ],
   "source": [
    "from pyspark.sql.functions import col\n",
    "from pyspark.sql import *\n",
    "from pyspark.sql.functions import count\n",
    "from pyspark.sql.functions import when"
   ]
  },
  {
   "cell_type": "code",
   "execution_count": 3,
   "id": "34892bab-8a0b-45d6-8160-36b4fb7be2fc",
   "metadata": {
    "execution": {
     "iopub.execute_input": "2022-04-24T09:57:44.078161Z",
     "iopub.status.busy": "2022-04-24T09:57:44.077819Z",
     "iopub.status.idle": "2022-04-24T09:57:44.182254Z",
     "shell.execute_reply": "2022-04-24T09:57:44.181547Z",
     "shell.execute_reply.started": "2022-04-24T09:57:44.078127Z"
    },
    "tags": [],
    "vscode": {
     "languageId": "json"
    }
   },
   "outputs": [
    {
     "data": {
      "application/vnd.jupyter.widget-view+json": {
       "model_id": "8367db5f20444d86a55ca79be0d9b486",
       "version_major": 2,
       "version_minor": 0
      },
      "text/plain": [
       "VBox()"
      ]
     },
     "metadata": {},
     "output_type": "display_data"
    },
    {
     "data": {
      "application/vnd.jupyter.widget-view+json": {
       "model_id": "",
       "version_major": 2,
       "version_minor": 0
      },
      "text/plain": [
       "FloatProgress(value=0.0, bar_style='info', description='Progress:', layout=Layout(height='25px', width='50%'),…"
      ]
     },
     "metadata": {},
     "output_type": "display_data"
    }
   ],
   "source": [
    "# load all the data (includes two springer tables and three AI tables after filtering) for one subfield. e.g. 0101-Pure Mathematics\n",
    "def loaddata():\n",
    "    springer_paper_path = \"s3://cse6242-hchen703/0101_paper.csv\"\n",
    "    AI_path = \"s3://cse6242-hchen703/AIpaperInfo.csv\"\n",
    "    springer_person_path = \"s3://cse6242-hchen703/0101_paper_person.csv\"\n",
    "    AI_citation_path = \"s3://cse6242-hchen703/citation.csv\"\n",
    "    AI_reference_path = \"s3://cse6242-hchen703/reference.csv\"\n",
    "    springerdata = spark.read.csv(springer_paper_path, header=True, inferSchema=True)\n",
    "    AIdata = spark.read.csv(AI_path, header=True, inferSchema=True)\n",
    "    springerperson = spark.read.csv(springer_person_path, header=True, inferSchema=True)\n",
    "    AIcitation = spark.read.csv(AI_citation_path, header=True, inferSchema=True)\n",
    "    AIreference = spark.read.csv(AI_reference_path, header=True, inferSchema=True)\n",
    "    return springerdata, AIdata, springerperson, AIcitation, AIreference"
   ]
  },
  {
   "cell_type": "code",
   "execution_count": 4,
   "id": "6cc62c60-1d71-4846-ab59-b8cc31c1d251",
   "metadata": {
    "execution": {
     "iopub.execute_input": "2022-04-24T09:57:44.183686Z",
     "iopub.status.busy": "2022-04-24T09:57:44.183302Z",
     "iopub.status.idle": "2022-04-24T09:58:11.696301Z",
     "shell.execute_reply": "2022-04-24T09:58:11.695660Z",
     "shell.execute_reply.started": "2022-04-24T09:57:44.183650Z"
    },
    "tags": [],
    "vscode": {
     "languageId": "json"
    }
   },
   "outputs": [
    {
     "data": {
      "application/vnd.jupyter.widget-view+json": {
       "model_id": "b81ab57d57144fa4a12e82426a41587a",
       "version_major": 2,
       "version_minor": 0
      },
      "text/plain": [
       "VBox()"
      ]
     },
     "metadata": {},
     "output_type": "display_data"
    },
    {
     "data": {
      "application/vnd.jupyter.widget-view+json": {
       "model_id": "",
       "version_major": 2,
       "version_minor": 0
      },
      "text/plain": [
       "FloatProgress(value=0.0, bar_style='info', description='Progress:', layout=Layout(height='25px', width='50%'),…"
      ]
     },
     "metadata": {},
     "output_type": "display_data"
    }
   ],
   "source": [
    "springerdata, AIdata, springerperson, AIcitation, AIreference= loaddata()"
   ]
  },
  {
   "cell_type": "code",
   "execution_count": 5,
   "id": "065df6d1-6e5b-45d6-aa5b-05036ed0ab7a",
   "metadata": {
    "execution": {
     "iopub.execute_input": "2022-04-24T09:58:11.697616Z",
     "iopub.status.busy": "2022-04-24T09:58:11.697435Z",
     "iopub.status.idle": "2022-04-24T09:58:12.006958Z",
     "shell.execute_reply": "2022-04-24T09:58:12.006359Z",
     "shell.execute_reply.started": "2022-04-24T09:58:11.697594Z"
    },
    "tags": [],
    "vscode": {
     "languageId": "json"
    }
   },
   "outputs": [
    {
     "data": {
      "application/vnd.jupyter.widget-view+json": {
       "model_id": "b61c998d9cd348f099186e066c27d289",
       "version_major": 2,
       "version_minor": 0
      },
      "text/plain": [
       "VBox()"
      ]
     },
     "metadata": {},
     "output_type": "display_data"
    },
    {
     "data": {
      "application/vnd.jupyter.widget-view+json": {
       "model_id": "",
       "version_major": 2,
       "version_minor": 0
      },
      "text/plain": [
       "FloatProgress(value=0.0, bar_style='info', description='Progress:', layout=Layout(height='25px', width='50%'),…"
      ]
     },
     "metadata": {},
     "output_type": "display_data"
    }
   ],
   "source": [
    "# join the rawdata of AI with filtered springer data\n",
    "springerdata = springerdata.alias(\"springer\")\n",
    "AIdata = AIdata.alias(\"ai\")\n",
    "citation = springerdata.join(AIdata, col(\"springer.doi\") == col(\"ai.doi\")).select(col(\"springer.doi\"),col(\"paper_name\"),col(\"journal_id\"), col(\"ai.AIid\"))"
   ]
  },
  {
   "cell_type": "code",
   "execution_count": 7,
   "id": "5d4c9b00-f4fb-4776-b3fe-87b4a17d49cc",
   "metadata": {
    "execution": {
     "iopub.execute_input": "2022-04-24T10:02:38.398312Z",
     "iopub.status.busy": "2022-04-24T10:02:38.398143Z",
     "iopub.status.idle": "2022-04-24T10:02:38.686279Z",
     "shell.execute_reply": "2022-04-24T10:02:38.685534Z",
     "shell.execute_reply.started": "2022-04-24T10:02:38.398290Z"
    },
    "tags": [],
    "vscode": {
     "languageId": "json"
    }
   },
   "outputs": [
    {
     "data": {
      "application/vnd.jupyter.widget-view+json": {
       "model_id": "9cbace77abb3496dbd019911344eba5a",
       "version_major": 2,
       "version_minor": 0
      },
      "text/plain": [
       "VBox()"
      ]
     },
     "metadata": {},
     "output_type": "display_data"
    },
    {
     "data": {
      "application/vnd.jupyter.widget-view+json": {
       "model_id": "",
       "version_major": 2,
       "version_minor": 0
      },
      "text/plain": [
       "FloatProgress(value=0.0, bar_style='info', description='Progress:', layout=Layout(height='25px', width='50%'),…"
      ]
     },
     "metadata": {},
     "output_type": "display_data"
    }
   ],
   "source": [
    "# join the rawdata of reference and citation from AI with filtered springer data\n",
    "AIcitation = AIcitation.alias(\"AIcitation\")\n",
    "AIreference = AIreference.alias(\"AIreference\")\n",
    "citation = citation.alias(\"citation\")\n",
    "citationNeed = citation.join(AIcitation, col(\"citation.doi\") == col(\"AIcitation.doi\")).select(col(\"citation.doi\"), col(\"cite_AIid\"))\n",
    "referenceNeed = citation.join(AIreference, col(\"citation.doi\") == col(\"AIreference.doi\")).select(col(\"citation.doi\"), col(\"ref_AIid\"))\n",
    "\n",
    "#transform the AIid of reference paper and citation paper to doi\n",
    "citationNeed = citationNeed.alias(\"cite_need\")\n",
    "referenceNeed = referenceNeed.alias(\"ref_need\")\n",
    "AIdata = AIdata.alias(\"ai\")\n",
    "ref_transform = referenceNeed.join(AIdata, col(\"ref_need.ref_AIid\") == col(\"ai.AIid\")).select(col(\"ref_need.doi\"), col(\"ai.doi\").alias(\"ref_doi\"))\n",
    "cite_transform = citationNeed.join(AIdata, col(\"cite_need.cite_AIid\") == col(\"ai.AIid\")).select(col(\"cite_need.doi\"), col(\"ai.doi\").alias(\"cite_doi\"))\n"
   ]
  },
  {
   "cell_type": "code",
   "execution_count": 8,
   "id": "7df89afc-6288-41b5-9295-788ef4b54d9b",
   "metadata": {
    "execution": {
     "iopub.execute_input": "2022-04-24T10:02:38.687764Z",
     "iopub.status.busy": "2022-04-24T10:02:38.687291Z",
     "iopub.status.idle": "2022-04-24T10:02:38.955259Z",
     "shell.execute_reply": "2022-04-24T10:02:38.954669Z",
     "shell.execute_reply.started": "2022-04-24T10:02:38.687727Z"
    },
    "tags": [],
    "vscode": {
     "languageId": "json"
    }
   },
   "outputs": [
    {
     "data": {
      "application/vnd.jupyter.widget-view+json": {
       "model_id": "758802332d8b4c0782bd8d3485dec4a0",
       "version_major": 2,
       "version_minor": 0
      },
      "text/plain": [
       "VBox()"
      ]
     },
     "metadata": {},
     "output_type": "display_data"
    },
    {
     "data": {
      "application/vnd.jupyter.widget-view+json": {
       "model_id": "",
       "version_major": 2,
       "version_minor": 0
      },
      "text/plain": [
       "FloatProgress(value=0.0, bar_style='info', description='Progress:', layout=Layout(height='25px', width='50%'),…"
      ]
     },
     "metadata": {},
     "output_type": "display_data"
    }
   ],
   "source": [
    "# focus the citation and reference part to our subfield scale\n",
    "ref_transform = ref_transform.alias(\"ref_t\")\n",
    "cite_transform = cite_transform.alias(\"cite_t\")\n",
    "springerdata = springerdata.alias(\"springer\")\n",
    "ref = ref_transform.join(springerdata, col(\"ref_t.ref_doi\") == col(\"springer.doi\")).select(col(\"ref_t.doi\"), col(\"springer.doi\").alias(\"ref_doi\"))\n",
    "cite = cite_transform.join(springerdata, col(\"cite_t.cite_doi\") == col(\"springer.doi\")).select(col(\"cite_t.doi\"), col(\"springer.doi\").alias(\"cite_doi\"))\n"
   ]
  },
  {
   "cell_type": "code",
   "execution_count": 9,
   "id": "f1f9ddab-737a-43d2-aafa-4209e53692eb",
   "metadata": {
    "execution": {
     "iopub.execute_input": "2022-04-24T10:02:38.956287Z",
     "iopub.status.busy": "2022-04-24T10:02:38.956122Z",
     "iopub.status.idle": "2022-04-24T10:02:39.228927Z",
     "shell.execute_reply": "2022-04-24T10:02:39.228197Z",
     "shell.execute_reply.started": "2022-04-24T10:02:38.956266Z"
    },
    "tags": [],
    "vscode": {
     "languageId": "json"
    }
   },
   "outputs": [
    {
     "data": {
      "application/vnd.jupyter.widget-view+json": {
       "model_id": "773b81ccef48408e835d824063c44efa",
       "version_major": 2,
       "version_minor": 0
      },
      "text/plain": [
       "VBox()"
      ]
     },
     "metadata": {},
     "output_type": "display_data"
    },
    {
     "data": {
      "application/vnd.jupyter.widget-view+json": {
       "model_id": "",
       "version_major": 2,
       "version_minor": 0
      },
      "text/plain": [
       "FloatProgress(value=0.0, bar_style='info', description='Progress:', layout=Layout(height='25px', width='50%'),…"
      ]
     },
     "metadata": {},
     "output_type": "display_data"
    }
   ],
   "source": [
    "# get paper-to-paper relationship and write the csv file\n",
    "ref_reorder = ref.select(col(\"ref_doi\").alias(\"doi\"), col(\"doi\").alias(\"cite_doi\"))\n",
    "relationship = ref_reorder.union(cite).distinct()\n",
    "\n",
    "bucket = \"s3://cse6242-hchen703/project_output/0101paper_relationship\"\n",
    "relationship.coalesce(1).write.option(\"header\",\"true\").csv(bucket)"
   ]
  },
  {
   "cell_type": "code",
   "execution_count": 10,
   "id": "1a2b54ca-f809-474b-b38b-f3eff0d1f887",
   "metadata": {
    "execution": {
     "iopub.execute_input": "2022-04-24T10:02:39.230463Z",
     "iopub.status.busy": "2022-04-24T10:02:39.230221Z",
     "iopub.status.idle": "2022-04-24T10:02:39.504141Z",
     "shell.execute_reply": "2022-04-24T10:02:39.503550Z",
     "shell.execute_reply.started": "2022-04-24T10:02:39.230431Z"
    },
    "tags": [],
    "vscode": {
     "languageId": "json"
    }
   },
   "outputs": [
    {
     "data": {
      "application/vnd.jupyter.widget-view+json": {
       "model_id": "640f619303404677950a6e99073941c3",
       "version_major": 2,
       "version_minor": 0
      },
      "text/plain": [
       "VBox()"
      ]
     },
     "metadata": {},
     "output_type": "display_data"
    },
    {
     "data": {
      "application/vnd.jupyter.widget-view+json": {
       "model_id": "",
       "version_major": 2,
       "version_minor": 0
      },
      "text/plain": [
       "FloatProgress(value=0.0, bar_style='info', description='Progress:', layout=Layout(height='25px', width='50%'),…"
      ]
     },
     "metadata": {},
     "output_type": "display_data"
    }
   ],
   "source": [
    "# add the journal information to the relationship dataframe\n",
    "springerdata = springerdata.alias(\"springer\")\n",
    "relationship = relationship.alias(\"relationship\")\n",
    "add_journal1 = relationship.join(springerdata, col(\"relationship.doi\") == col(\"springer.doi\")).select(col(\"relationship.doi\").alias(\"doi\"), col(\"springer.journal_id\").alias(\"journal_id\"), col(\"relationship.cite_doi\"))\n",
    "add_journal1 = add_journal1.alias(\"add_journal1\")\n",
    "add_journal2 = add_journal1.join(springerdata, col(\"add_journal1.cite_doi\") == col(\"springer.doi\")).select(col(\"add_journal1.journal_id\").alias(\"journal_id\"), col(\"springer.journal_id\").alias(\"cite_journal_id\"))\n",
    "journal_relationship = add_journal2.groupBy(col(\"journal_id\"), col(\"cite_journal_id\")).agg(count(\"*\").alias(\"cite_num\"))\n",
    "journal = journal_relationship.filter(journal_relationship.journal_id.like('sg%')).filter(journal_relationship.cite_journal_id.like('sg%'))"
   ]
  },
  {
   "cell_type": "code",
   "execution_count": 11,
   "id": "79bb7b03-dab8-40ff-9508-23d906330f83",
   "metadata": {
    "execution": {
     "iopub.execute_input": "2022-04-24T10:02:39.505201Z",
     "iopub.status.busy": "2022-04-24T10:02:39.505034Z",
     "iopub.status.idle": "2022-04-24T10:02:40.284401Z",
     "shell.execute_reply": "2022-04-24T10:02:40.283812Z",
     "shell.execute_reply.started": "2022-04-24T10:02:39.505180Z"
    },
    "tags": [],
    "vscode": {
     "languageId": "json"
    }
   },
   "outputs": [
    {
     "data": {
      "application/vnd.jupyter.widget-view+json": {
       "model_id": "7a173f77c52341d4894638a3e15d77e7",
       "version_major": 2,
       "version_minor": 0
      },
      "text/plain": [
       "VBox()"
      ]
     },
     "metadata": {},
     "output_type": "display_data"
    },
    {
     "data": {
      "application/vnd.jupyter.widget-view+json": {
       "model_id": "",
       "version_major": 2,
       "version_minor": 0
      },
      "text/plain": [
       "FloatProgress(value=0.0, bar_style='info', description='Progress:', layout=Layout(height='25px', width='50%'),…"
      ]
     },
     "metadata": {},
     "output_type": "display_data"
    }
   ],
   "source": [
    "# filter journal-to-journal dataframe to those with clear snip and sjr info and get the final journal-to-journal relationship csv file\n",
    "raw_journal = spark.read.csv(\"s3://cse6242-hchen703/6242projetc_journal/journal.csv\", header=True, inferSchema=True)\n",
    "raw_journal = raw_journal.alias(\"raw\")\n",
    "journal = journal.alias(\"journal\")\n",
    "journal_filter1 = journal.join(raw_journal, col(\"journal.journal_id\") == col(\"raw.journal_id\")).select(col(\"raw.journal_id\"), col(\"journal.cite_journal_id\"), col(\"journal.cite_num\"))\n",
    "journal_filter1 = journal_filter1.alias(\"filter\")\n",
    "journal_filter2 = journal_filter1.join(raw_journal, col(\"filter.cite_journal_id\") == col(\"raw.journal_id\")).select(col(\"filter.journal_id\"), col(\"filter.cite_journal_id\"), col(\"filter.cite_num\"))\n",
    "\n",
    "bucket2 = \"s3://cse6242-hchen703/project_output/0101journal_relationship\"\n",
    "journal_filter2.coalesce(1).write.option(\"header\",\"true\").csv(bucket2)"
   ]
  }
 ],
 "metadata": {
  "kernelspec": {
   "display_name": "PySpark",
   "language": "python",
   "name": "pysparkkernel"
  },
  "language_info": {
   "codemirror_mode": {
    "name": "python",
    "version": 3
   },
   "file_extension": ".py",
   "mimetype": "text/x-python",
   "name": "pyspark",
   "pygments_lexer": "python3"
  }
 },
 "nbformat": 4,
 "nbformat_minor": 5
}
