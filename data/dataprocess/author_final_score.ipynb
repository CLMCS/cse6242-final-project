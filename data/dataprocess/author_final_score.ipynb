{
 "cells": [
  {
   "cell_type": "code",
   "execution_count": 1,
   "id": "2052dd9e-0f18-49dd-a691-6af6ca394634",
   "metadata": {
    "execution": {
     "iopub.execute_input": "2022-04-24T09:57:14.103553Z",
     "iopub.status.busy": "2022-04-24T09:57:14.103326Z",
     "iopub.status.idle": "2022-04-24T09:57:43.792382Z",
     "shell.execute_reply": "2022-04-24T09:57:43.791772Z",
     "shell.execute_reply.started": "2022-04-24T09:57:14.103529Z"
    },
    "tags": [],
    "vscode": {
     "languageId": "json"
    }
   },
   "outputs": [
    {
     "data": {
      "application/vnd.jupyter.widget-view+json": {
       "model_id": "f5bb4cea61354bdda0e2348a95e3d003",
       "version_major": 2,
       "version_minor": 0
      },
      "text/plain": [
       "VBox()"
      ]
     },
     "metadata": {},
     "output_type": "display_data"
    },
    {
     "name": "stdout",
     "output_type": "stream",
     "text": [
      "Starting Spark application\n"
     ]
    },
    {
     "data": {
      "text/html": [
       "<table>\n",
       "<tr><th>ID</th><th>YARN Application ID</th><th>Kind</th><th>State</th><th>Spark UI</th><th>Driver log</th><th>User</th><th>Current session?</th></tr><tr><td>0</td><td>application_1650793755033_0001</td><td>pyspark</td><td>idle</td><td><a target=\"_blank\" href=\"http://ip-172-31-85-105.ec2.internal:20888/proxy/application_1650793755033_0001/\" class=\"emr-proxy-link\" emr-resource=\"j-MW8FSHK8LXAF\n",
       "\" application-id=\"application_1650793755033_0001\">Link</a></td><td><a target=\"_blank\" href=\"http://ip-172-31-93-254.ec2.internal:8042/node/containerlogs/container_1650793755033_0001_01_000001/livy\" >Link</a></td><td>None</td><td>✔</td></tr></table>"
      ],
      "text/plain": [
       "<IPython.core.display.HTML object>"
      ]
     },
     "metadata": {},
     "output_type": "display_data"
    },
    {
     "data": {
      "application/vnd.jupyter.widget-view+json": {
       "model_id": "",
       "version_major": 2,
       "version_minor": 0
      },
      "text/plain": [
       "FloatProgress(value=0.0, bar_style='info', description='Progress:', layout=Layout(height='25px', width='50%'),…"
      ]
     },
     "metadata": {},
     "output_type": "display_data"
    },
    {
     "name": "stdout",
     "output_type": "stream",
     "text": [
      "SparkSession available as 'spark'.\n"
     ]
    },
    {
     "data": {
      "application/vnd.jupyter.widget-view+json": {
       "model_id": "",
       "version_major": 2,
       "version_minor": 0
      },
      "text/plain": [
       "FloatProgress(value=0.0, bar_style='info', description='Progress:', layout=Layout(height='25px', width='50%'),…"
      ]
     },
     "metadata": {},
     "output_type": "display_data"
    },
    {
     "name": "stdout",
     "output_type": "stream",
     "text": [
      "<SparkContext master=yarn appName=livy-session-0>"
     ]
    }
   ],
   "source": [
    "sc"
   ]
  },
  {
   "cell_type": "code",
   "execution_count": 2,
   "id": "85aedd02-453f-439b-bf25-c057bce4b01f",
   "metadata": {
    "execution": {
     "iopub.execute_input": "2022-04-24T09:57:43.797067Z",
     "iopub.status.busy": "2022-04-24T09:57:43.796903Z",
     "iopub.status.idle": "2022-04-24T09:57:44.076748Z",
     "shell.execute_reply": "2022-04-24T09:57:44.076057Z",
     "shell.execute_reply.started": "2022-04-24T09:57:43.797046Z"
    },
    "tags": [],
    "vscode": {
     "languageId": "json"
    }
   },
   "outputs": [
    {
     "data": {
      "application/vnd.jupyter.widget-view+json": {
       "model_id": "e75277a99ad84e35b35d6b1cb2ff3193",
       "version_major": 2,
       "version_minor": 0
      },
      "text/plain": [
       "VBox()"
      ]
     },
     "metadata": {},
     "output_type": "display_data"
    },
    {
     "data": {
      "application/vnd.jupyter.widget-view+json": {
       "model_id": "",
       "version_major": 2,
       "version_minor": 0
      },
      "text/plain": [
       "FloatProgress(value=0.0, bar_style='info', description='Progress:', layout=Layout(height='25px', width='50%'),…"
      ]
     },
     "metadata": {},
     "output_type": "display_data"
    }
   ],
   "source": [
    "from pyspark.sql.functions import col\n",
    "from pyspark.sql import *\n",
    "from pyspark.sql.functions import count\n",
    "from pyspark.sql.functions import when"
   ]
  },
  {
   "cell_type": "code",
   "execution_count": 3,
   "id": "34892bab-8a0b-45d6-8160-36b4fb7be2fc",
   "metadata": {
    "execution": {
     "iopub.execute_input": "2022-04-24T09:57:44.078161Z",
     "iopub.status.busy": "2022-04-24T09:57:44.077819Z",
     "iopub.status.idle": "2022-04-24T09:57:44.182254Z",
     "shell.execute_reply": "2022-04-24T09:57:44.181547Z",
     "shell.execute_reply.started": "2022-04-24T09:57:44.078127Z"
    },
    "tags": [],
    "vscode": {
     "languageId": "json"
    }
   },
   "outputs": [
    {
     "data": {
      "application/vnd.jupyter.widget-view+json": {
       "model_id": "8367db5f20444d86a55ca79be0d9b486",
       "version_major": 2,
       "version_minor": 0
      },
      "text/plain": [
       "VBox()"
      ]
     },
     "metadata": {},
     "output_type": "display_data"
    },
    {
     "data": {
      "application/vnd.jupyter.widget-view+json": {
       "model_id": "",
       "version_major": 2,
       "version_minor": 0
      },
      "text/plain": [
       "FloatProgress(value=0.0, bar_style='info', description='Progress:', layout=Layout(height='25px', width='50%'),…"
      ]
     },
     "metadata": {},
     "output_type": "display_data"
    }
   ],
   "source": [
    "# load all the data (includes two springer tables and three AI tables after filtering) for one subfield. e.g. 0101-Pure Mathematics\n",
    "def loaddata():\n",
    "    springer_paper_path = \"s3://cse6242-hchen703/0101_paper.csv\"\n",
    "    AI_path = \"s3://cse6242-hchen703/AIpaperInfo.csv\"\n",
    "    springer_person_path = \"s3://cse6242-hchen703/0101_paper_person.csv\"\n",
    "    AI_citation_path = \"s3://cse6242-hchen703/citation.csv\"\n",
    "    AI_reference_path = \"s3://cse6242-hchen703/reference.csv\"\n",
    "    springerdata = spark.read.csv(springer_paper_path, header=True, inferSchema=True)\n",
    "    AIdata = spark.read.csv(AI_path, header=True, inferSchema=True)\n",
    "    springerperson = spark.read.csv(springer_person_path, header=True, inferSchema=True)\n",
    "    AIcitation = spark.read.csv(AI_citation_path, header=True, inferSchema=True)\n",
    "    AIreference = spark.read.csv(AI_reference_path, header=True, inferSchema=True)\n",
    "    return springerdata, AIdata, springerperson, AIcitation, AIreference"
   ]
  },
  {
   "cell_type": "code",
   "execution_count": 4,
   "id": "6cc62c60-1d71-4846-ab59-b8cc31c1d251",
   "metadata": {
    "execution": {
     "iopub.execute_input": "2022-04-24T09:57:44.183686Z",
     "iopub.status.busy": "2022-04-24T09:57:44.183302Z",
     "iopub.status.idle": "2022-04-24T09:58:11.696301Z",
     "shell.execute_reply": "2022-04-24T09:58:11.695660Z",
     "shell.execute_reply.started": "2022-04-24T09:57:44.183650Z"
    },
    "tags": [],
    "vscode": {
     "languageId": "json"
    }
   },
   "outputs": [
    {
     "data": {
      "application/vnd.jupyter.widget-view+json": {
       "model_id": "b81ab57d57144fa4a12e82426a41587a",
       "version_major": 2,
       "version_minor": 0
      },
      "text/plain": [
       "VBox()"
      ]
     },
     "metadata": {},
     "output_type": "display_data"
    },
    {
     "data": {
      "application/vnd.jupyter.widget-view+json": {
       "model_id": "",
       "version_major": 2,
       "version_minor": 0
      },
      "text/plain": [
       "FloatProgress(value=0.0, bar_style='info', description='Progress:', layout=Layout(height='25px', width='50%'),…"
      ]
     },
     "metadata": {},
     "output_type": "display_data"
    }
   ],
   "source": [
    "springerdata, AIdata, springerperson, AIcitation, AIreference= loaddata()"
   ]
  },
  {
   "cell_type": "code",
   "execution_count": 5,
   "id": "065df6d1-6e5b-45d6-aa5b-05036ed0ab7a",
   "metadata": {
    "execution": {
     "iopub.execute_input": "2022-04-24T09:58:11.697616Z",
     "iopub.status.busy": "2022-04-24T09:58:11.697435Z",
     "iopub.status.idle": "2022-04-24T09:58:12.006958Z",
     "shell.execute_reply": "2022-04-24T09:58:12.006359Z",
     "shell.execute_reply.started": "2022-04-24T09:58:11.697594Z"
    },
    "tags": [],
    "vscode": {
     "languageId": "json"
    }
   },
   "outputs": [
    {
     "data": {
      "application/vnd.jupyter.widget-view+json": {
       "model_id": "b61c998d9cd348f099186e066c27d289",
       "version_major": 2,
       "version_minor": 0
      },
      "text/plain": [
       "VBox()"
      ]
     },
     "metadata": {},
     "output_type": "display_data"
    },
    {
     "data": {
      "application/vnd.jupyter.widget-view+json": {
       "model_id": "",
       "version_major": 2,
       "version_minor": 0
      },
      "text/plain": [
       "FloatProgress(value=0.0, bar_style='info', description='Progress:', layout=Layout(height='25px', width='50%'),…"
      ]
     },
     "metadata": {},
     "output_type": "display_data"
    }
   ],
   "source": [
    "# join the rawdata of AI with filtered springer data\n",
    "springerdata = springerdata.alias(\"springer\")\n",
    "AIdata = AIdata.alias(\"ai\")\n",
    "citation = springerdata.join(AIdata, col(\"springer.doi\") == col(\"ai.doi\")).select(col(\"springer.doi\"),col(\"paper_name\"),col(\"journal_id\"), col(\"ai.AIid\"))"
   ]
  },
  {
   "cell_type": "code",
   "execution_count": 6,
   "id": "7e749898-0f78-49c3-8f92-a19eb27b357a",
   "metadata": {
    "execution": {
     "iopub.execute_input": "2022-04-24T09:58:12.008856Z",
     "iopub.status.busy": "2022-04-24T09:58:12.008675Z",
     "iopub.status.idle": "2022-04-24T10:02:38.396923Z",
     "shell.execute_reply": "2022-04-24T10:02:38.396198Z",
     "shell.execute_reply.started": "2022-04-24T09:58:12.008833Z"
    },
    "tags": [],
    "vscode": {
     "languageId": "json"
    }
   },
   "outputs": [
    {
     "data": {
      "application/vnd.jupyter.widget-view+json": {
       "model_id": "10c32f8e1e1145c6b80aa44721c85ec3",
       "version_major": 2,
       "version_minor": 0
      },
      "text/plain": [
       "VBox()"
      ]
     },
     "metadata": {},
     "output_type": "display_data"
    },
    {
     "data": {
      "application/vnd.jupyter.widget-view+json": {
       "model_id": "",
       "version_major": 2,
       "version_minor": 0
      },
      "text/plain": [
       "FloatProgress(value=0.0, bar_style='info', description='Progress:', layout=Layout(height='25px', width='50%'),…"
      ]
     },
     "metadata": {},
     "output_type": "display_data"
    }
   ],
   "source": [
    "# join the rawdata of reference and citation from AI with filtered springer data\n",
    "AIcitation = AIcitation.alias(\"AIcitation\")\n",
    "AIreference = AIreference.alias(\"AIreference\")\n",
    "citation = citation.alias(\"citation\")\n",
    "citationNeed = citation.join(AIcitation, col(\"citation.doi\") == col(\"AIcitation.doi\")).select(col(\"citation.doi\"), col(\"cite_AIid\"))\n",
    "referenceNeed = citation.join(AIreference, col(\"citation.doi\") == col(\"AIreference.doi\")).select(col(\"citation.doi\"), col(\"ref_AIid\"))\n",
    "\n",
    "#transform the AIid of reference paper and citation paper to doi\n",
    "citationNeed = citationNeed.alias(\"cite_need\")\n",
    "referenceNeed = referenceNeed.alias(\"ref_need\")\n",
    "AIdata = AIdata.alias(\"ai\")\n",
    "ref_transform = referenceNeed.join(AIdata, col(\"ref_need.ref_AIid\") == col(\"ai.AIid\")).select(col(\"ref_need.doi\"), col(\"ai.doi\").alias(\"ref_doi\"))\n",
    "cite_transform = citationNeed.join(AIdata, col(\"cite_need.cite_AIid\") == col(\"ai.AIid\")).select(col(\"cite_need.doi\"), col(\"ai.doi\").alias(\"cite_doi\"))"
   ]
  },
  {
   "cell_type": "code",
   "execution_count": 7,
   "id": "5d4c9b00-f4fb-4776-b3fe-87b4a17d49cc",
   "metadata": {
    "execution": {
     "iopub.execute_input": "2022-04-24T10:02:38.398312Z",
     "iopub.status.busy": "2022-04-24T10:02:38.398143Z",
     "iopub.status.idle": "2022-04-24T10:02:38.686279Z",
     "shell.execute_reply": "2022-04-24T10:02:38.685534Z",
     "shell.execute_reply.started": "2022-04-24T10:02:38.398290Z"
    },
    "tags": [],
    "vscode": {
     "languageId": "json"
    }
   },
   "outputs": [
    {
     "data": {
      "application/vnd.jupyter.widget-view+json": {
       "model_id": "9cbace77abb3496dbd019911344eba5a",
       "version_major": 2,
       "version_minor": 0
      },
      "text/plain": [
       "VBox()"
      ]
     },
     "metadata": {},
     "output_type": "display_data"
    },
    {
     "data": {
      "application/vnd.jupyter.widget-view+json": {
       "model_id": "",
       "version_major": 2,
       "version_minor": 0
      },
      "text/plain": [
       "FloatProgress(value=0.0, bar_style='info', description='Progress:', layout=Layout(height='25px', width='50%'),…"
      ]
     },
     "metadata": {},
     "output_type": "display_data"
    }
   ],
   "source": [
    "# focus the citation and reference part to our subfield scale\n",
    "ref_transform = ref_transform.alias(\"ref_t\")\n",
    "cite_transform = cite_transform.alias(\"cite_t\")\n",
    "springerdata = springerdata.alias(\"springer\")\n",
    "ref = ref_transform.join(springerdata, col(\"ref_t.ref_doi\") == col(\"springer.doi\")).select(col(\"ref_t.doi\"), col(\"springer.doi\").alias(\"ref_doi\"))\n",
    "cite = cite_transform.join(springerdata, col(\"cite_t.cite_doi\") == col(\"springer.doi\")).select(col(\"cite_t.doi\"), col(\"springer.doi\").alias(\"cite_doi\"))"
   ]
  },
  {
   "cell_type": "code",
   "execution_count": 8,
   "id": "7df89afc-6288-41b5-9295-788ef4b54d9b",
   "metadata": {
    "execution": {
     "iopub.execute_input": "2022-04-24T10:02:38.687764Z",
     "iopub.status.busy": "2022-04-24T10:02:38.687291Z",
     "iopub.status.idle": "2022-04-24T10:02:38.955259Z",
     "shell.execute_reply": "2022-04-24T10:02:38.954669Z",
     "shell.execute_reply.started": "2022-04-24T10:02:38.687727Z"
    },
    "tags": [],
    "vscode": {
     "languageId": "json"
    }
   },
   "outputs": [
    {
     "data": {
      "application/vnd.jupyter.widget-view+json": {
       "model_id": "758802332d8b4c0782bd8d3485dec4a0",
       "version_major": 2,
       "version_minor": 0
      },
      "text/plain": [
       "VBox()"
      ]
     },
     "metadata": {},
     "output_type": "display_data"
    },
    {
     "data": {
      "application/vnd.jupyter.widget-view+json": {
       "model_id": "",
       "version_major": 2,
       "version_minor": 0
      },
      "text/plain": [
       "FloatProgress(value=0.0, bar_style='info', description='Progress:', layout=Layout(height='25px', width='50%'),…"
      ]
     },
     "metadata": {},
     "output_type": "display_data"
    }
   ],
   "source": [
    "# get paper-to-paper relationship and write the csv file\n",
    "ref_reorder = ref.select(col(\"ref_doi\").alias(\"doi\"), col(\"doi\").alias(\"cite_doi\"))\n",
    "relationship = ref_reorder.union(cite).distinct()"
   ]
  },
  {
   "cell_type": "code",
   "execution_count": 9,
   "id": "f1f9ddab-737a-43d2-aafa-4209e53692eb",
   "metadata": {
    "execution": {
     "iopub.execute_input": "2022-04-24T10:02:38.956287Z",
     "iopub.status.busy": "2022-04-24T10:02:38.956122Z",
     "iopub.status.idle": "2022-04-24T10:02:39.228927Z",
     "shell.execute_reply": "2022-04-24T10:02:39.228197Z",
     "shell.execute_reply.started": "2022-04-24T10:02:38.956266Z"
    },
    "tags": [],
    "vscode": {
     "languageId": "json"
    }
   },
   "outputs": [
    {
     "data": {
      "application/vnd.jupyter.widget-view+json": {
       "model_id": "773b81ccef48408e835d824063c44efa",
       "version_major": 2,
       "version_minor": 0
      },
      "text/plain": [
       "VBox()"
      ]
     },
     "metadata": {},
     "output_type": "display_data"
    },
    {
     "data": {
      "application/vnd.jupyter.widget-view+json": {
       "model_id": "",
       "version_major": 2,
       "version_minor": 0
      },
      "text/plain": [
       "FloatProgress(value=0.0, bar_style='info', description='Progress:', layout=Layout(height='25px', width='50%'),…"
      ]
     },
     "metadata": {},
     "output_type": "display_data"
    }
   ],
   "source": [
    "# add the journal information to the paper-to-paper relationship dataframe\n",
    "springerdata = springerdata.alias(\"springer\")\n",
    "relationship = relationship.alias(\"relationship\")\n",
    "add_journal1 = relationship.join(springerdata, col(\"relationship.doi\") == col(\"springer.doi\")).select(col(\"relationship.doi\").alias(\"doi\"), col(\"springer.journal_id\").alias(\"journal_id\"), col(\"relationship.cite_doi\"))\n",
    "add_journal1 = add_journal1.alias(\"add_journal1\")\n",
    "add_journal2 = add_journal1.join(springerdata, col(\"add_journal1.cite_doi\") == col(\"springer.doi\")).select(col(\"add_journal1.journal_id\").alias(\"journal_id\"), col(\"springer.journal_id\").alias(\"cite_journal_id\"))\n",
    "journal_relationship = add_journal2.groupBy(col(\"journal_id\"), col(\"cite_journal_id\")).agg(count(\"*\").alias(\"cite_num\"))\n",
    "journal = journal_relationship.filter(journal_relationship.journal_id.like('sg%')).filter(journal_relationship.cite_journal_id.like('sg%'))"
   ]
  },
  {
   "cell_type": "code",
   "execution_count": 10,
   "id": "1a2b54ca-f809-474b-b38b-f3eff0d1f887",
   "metadata": {
    "execution": {
     "iopub.execute_input": "2022-04-24T10:02:39.230463Z",
     "iopub.status.busy": "2022-04-24T10:02:39.230221Z",
     "iopub.status.idle": "2022-04-24T10:02:39.504141Z",
     "shell.execute_reply": "2022-04-24T10:02:39.503550Z",
     "shell.execute_reply.started": "2022-04-24T10:02:39.230431Z"
    },
    "tags": [],
    "vscode": {
     "languageId": "json"
    }
   },
   "outputs": [
    {
     "data": {
      "application/vnd.jupyter.widget-view+json": {
       "model_id": "640f619303404677950a6e99073941c3",
       "version_major": 2,
       "version_minor": 0
      },
      "text/plain": [
       "VBox()"
      ]
     },
     "metadata": {},
     "output_type": "display_data"
    },
    {
     "data": {
      "application/vnd.jupyter.widget-view+json": {
       "model_id": "",
       "version_major": 2,
       "version_minor": 0
      },
      "text/plain": [
       "FloatProgress(value=0.0, bar_style='info', description='Progress:', layout=Layout(height='25px', width='50%'),…"
      ]
     },
     "metadata": {},
     "output_type": "display_data"
    }
   ],
   "source": [
    "# filter journal-to-journal dataframe to those with clear snip and sjr info and get the final journal-to-journal relationship csv file\n",
    "raw_journal = spark.read.csv(\"s3://cse6242-hchen703/6242projetc_journal/journal.csv\", header=True, inferSchema=True)\n",
    "raw_journal = raw_journal.alias(\"raw\")\n",
    "journal = journal.alias(\"journal\")\n",
    "journal_filter1 = journal.join(raw_journal, col(\"journal.journal_id\") == col(\"raw.journal_id\")).select(col(\"raw.journal_id\"), col(\"journal.cite_journal_id\"), col(\"journal.cite_num\"))\n",
    "journal_filter1 = journal_filter1.alias(\"filter\")\n",
    "journal_filter2 = journal_filter1.join(raw_journal, col(\"filter.cite_journal_id\") == col(\"raw.journal_id\")).select(col(\"filter.journal_id\"), col(\"filter.cite_journal_id\"), col(\"filter.cite_num\"))"
   ]
  },
  {
   "cell_type": "code",
   "execution_count": 12,
   "id": "f8871671-f13f-4b2d-8d70-8e597d0b4c11",
   "metadata": {
    "execution": {
     "iopub.execute_input": "2022-04-24T10:02:40.285515Z",
     "iopub.status.busy": "2022-04-24T10:02:40.285344Z",
     "iopub.status.idle": "2022-04-24T10:02:41.110489Z",
     "shell.execute_reply": "2022-04-24T10:02:41.109730Z",
     "shell.execute_reply.started": "2022-04-24T10:02:40.285494Z"
    },
    "tags": [],
    "vscode": {
     "languageId": "json"
    }
   },
   "outputs": [
    {
     "data": {
      "application/vnd.jupyter.widget-view+json": {
       "model_id": "22608af7415b425a80e4db8b76424873",
       "version_major": 2,
       "version_minor": 0
      },
      "text/plain": [
       "VBox()"
      ]
     },
     "metadata": {},
     "output_type": "display_data"
    },
    {
     "data": {
      "application/vnd.jupyter.widget-view+json": {
       "model_id": "",
       "version_major": 2,
       "version_minor": 0
      },
      "text/plain": [
       "FloatProgress(value=0.0, bar_style='info', description='Progress:', layout=Layout(height='25px', width='50%'),…"
      ]
     },
     "metadata": {},
     "output_type": "display_data"
    }
   ],
   "source": [
    "# add author information to the dataframe of paper relationship and compute the sum of lambda valve for per author per paper\n",
    "person = person.alias(\"person\")\n",
    "relationship = relationship.alias(\"relationship\")\n",
    "add_person1 = relationship.join(person, col(\"relationship.doi\") == col(\"person.doi\")).select(col(\"relationship.doi\"), col(\"person.author_id\"), col(\"relationship.cite_doi\"))\n",
    "temp = add_person1.groupBy(col(\"doi\"), col(\"author_id\")).agg(count(\"*\").alias(\"cite_num\"))\n",
    "add_person1 = add_person1.alias(\"add_person\")\n",
    "add_person2 = add_person1.join(person, col(\"add_person.cite_doi\") == col(\"person.doi\")).select(col(\"add_person.doi\"), col(\"add_person.author_id\"), col(\"person.author_id\").alias(\"cite_author_id\"))\n",
    "temp2 = add_person2.withColumn(\"selfcite\", when(add_person2.author_id == add_person2.cite_author_id, 1).otherwise(0))\n",
    "temp3 = temp2.select(\"doi\", \"author_id\", \"selfcite\")\n",
    "temp4 = temp3.groupBy(col(\"doi\"), col(\"author_id\")).agg({\"selfcite\": \"sum\"}).withColumnRenamed(\"sum(selfcite)\", \"selfcite_num\")\n",
    "temp = temp.alias(\"temp\")\n",
    "temp4 = temp4.alias(\"temp4\")\n",
    "lambda = temp4.join(temp, (col(\"temp4.doi\") == col(\"temp.doi\")) & (col(\"temp4.author_id\") == col(\"temp.author_id\"))).withColumn(\"sum_lambda\", temp[\"cite_num\"] - 0.5 * temp4[\"selfcite_num\"]).select(col(\"temp.doi\"), col(\"temp.author_id\"), col(\"sum_lambda\"))"
   ]
  },
  {
   "cell_type": "code",
   "execution_count": 14,
   "id": "f1dd891a-9974-45ba-8629-847afa0afce1",
   "metadata": {
    "execution": {
     "iopub.execute_input": "2022-04-24T10:02:43.448361Z",
     "iopub.status.busy": "2022-04-24T10:02:43.448119Z",
     "iopub.status.idle": "2022-04-24T10:02:45.791468Z",
     "shell.execute_reply": "2022-04-24T10:02:45.790780Z",
     "shell.execute_reply.started": "2022-04-24T10:02:43.448327Z"
    },
    "tags": [],
    "vscode": {
     "languageId": "json"
    }
   },
   "outputs": [
    {
     "data": {
      "application/vnd.jupyter.widget-view+json": {
       "model_id": "a9eb6d724b224a0ea13e8f7499f0399a",
       "version_major": 2,
       "version_minor": 0
      },
      "text/plain": [
       "VBox()"
      ]
     },
     "metadata": {},
     "output_type": "display_data"
    },
    {
     "data": {
      "application/vnd.jupyter.widget-view+json": {
       "model_id": "",
       "version_major": 2,
       "version_minor": 0
      },
      "text/plain": [
       "FloatProgress(value=0.0, bar_style='info', description='Progress:', layout=Layout(height='25px', width='50%'),…"
      ]
     },
     "metadata": {},
     "output_type": "display_data"
    },
    {
     "name": "stdout",
     "output_type": "stream",
     "text": [
      "root\n",
      " |-- Source: string (nullable = true)\n",
      " |-- LonestPath: integer (nullable = true)\n",
      "\n",
      "+--------------------+----------+\n",
      "|              Source|LonestPath|\n",
      "+--------------------+----------+\n",
      "|10.1007/s11225-00...|         2|\n",
      "|10.1007/s10623-01...|         3|\n",
      "|10.1007/s00220-02...|         2|\n",
      "|10.1007/s11784-01...|         1|\n",
      "|10.1007/s00209-01...|         1|\n",
      "|10.1007/s00220-00...|         1|\n",
      "|10.1007/s00021-02...|         2|\n",
      "|10.1007/s13348-01...|         1|\n",
      "+--------------------+----------+\n",
      "only showing top 8 rows"
     ]
    }
   ],
   "source": [
    "from pyspark.sql.types import IntegerType\n",
    "# load the longest path data for papers after building the directed paper citation graph \n",
    "paper_path = spark.read.csv(\"s3://cse6242-hchen703/paper_path/0101path.csv\", header=True, inferSchema=True)\n",
    "paper_path.withColumn(\"LonestPath\",paper_path.LonestPath.cast(IntegerType()))\n",
    "paper_weight = paper_path.select(\"Source\", \"LonestPath\").distinct()"
   ]
  },
  {
   "cell_type": "code",
   "execution_count": 23,
   "id": "6bc1c5c6-1704-4f04-bad5-0125d4744743",
   "metadata": {
    "execution": {
     "iopub.execute_input": "2022-04-24T10:23:45.051755Z",
     "iopub.status.busy": "2022-04-24T10:23:45.051534Z",
     "iopub.status.idle": "2022-04-24T10:23:54.368186Z",
     "shell.execute_reply": "2022-04-24T10:23:54.367616Z",
     "shell.execute_reply.started": "2022-04-24T10:23:45.051732Z"
    },
    "tags": [],
    "vscode": {
     "languageId": "json"
    }
   },
   "outputs": [
    {
     "data": {
      "application/vnd.jupyter.widget-view+json": {
       "model_id": "878a3e4ccbae4512bb3429dad789e1a3",
       "version_major": 2,
       "version_minor": 0
      },
      "text/plain": [
       "VBox()"
      ]
     },
     "metadata": {},
     "output_type": "display_data"
    },
    {
     "data": {
      "application/vnd.jupyter.widget-view+json": {
       "model_id": "",
       "version_major": 2,
       "version_minor": 0
      },
      "text/plain": [
       "FloatProgress(value=0.0, bar_style='info', description='Progress:', layout=Layout(height='25px', width='50%'),…"
      ]
     },
     "metadata": {},
     "output_type": "display_data"
    },
    {
     "name": "stdout",
     "output_type": "stream",
     "text": [
      "49\n",
      "root\n",
      " |-- doi: string (nullable = true)\n",
      " |-- LonestPath: integer (nullable = true)\n",
      " |-- author_id: string (nullable = true)\n",
      " |-- sum_lamda: double (nullable = true)\n",
      " |-- ratio: double (nullable = true)\n",
      " |-- influence: double (nullable = true)"
     ]
    }
   ],
   "source": [
    "from pyspark.sql.functions import *\n",
    "from pyspark.sql.functions import round\n",
    "from decimal import Decimal\n",
    "# join the paper influence ratio of the specific subfield with the author lambda values\n",
    "maxpath = paper_weight.agg({\"LonestPath\": \"max\"}).collect()[0][0]\n",
    "print(maxpath)\n",
    "I = lamda.join(paper_weight, col(\"doi\") == col(\"Source\")).select(col(\"doi\"), col(\"LonestPath\"), col(\"author_id\"), col(\"sum_lamda\")).withColumn(\"ratio\", col(\"LonestPath\")/maxpath).withColumn(\"influence\", col(\"ratio\")*col(\"sum_lamda\"))\n",
    "\n",
    "author_score = I.groupBy(\"author_id\").agg({\"influence\": \"sum\"}).withColumn(\"field\", lit(\"Pure Mathematics\")).withColumnRenamed(\"sum(influence)\", \"score\")\n",
    "author_IF = author_score.select(\"author_id\", \"score\", \"field\")\n"
   ]
  },
  {
   "cell_type": "code",
   "execution_count": 26,
   "id": "9f6ddf85-285e-4fee-b390-f20232a6d9c7",
   "metadata": {
    "execution": {
     "iopub.execute_input": "2022-04-24T10:24:51.961464Z",
     "iopub.status.busy": "2022-04-24T10:24:51.961139Z",
     "iopub.status.idle": "2022-04-24T10:24:52.753572Z",
     "shell.execute_reply": "2022-04-24T10:24:52.752980Z",
     "shell.execute_reply.started": "2022-04-24T10:24:51.961424Z"
    },
    "tags": [],
    "vscode": {
     "languageId": "json"
    }
   },
   "outputs": [
    {
     "data": {
      "application/vnd.jupyter.widget-view+json": {
       "model_id": "c04a101f79194191afa1f00387280339",
       "version_major": 2,
       "version_minor": 0
      },
      "text/plain": [
       "VBox()"
      ]
     },
     "metadata": {},
     "output_type": "display_data"
    },
    {
     "data": {
      "application/vnd.jupyter.widget-view+json": {
       "model_id": "",
       "version_major": 2,
       "version_minor": 0
      },
      "text/plain": [
       "FloatProgress(value=0.0, bar_style='info', description='Progress:', layout=Layout(height='25px', width='50%'),…"
      ]
     },
     "metadata": {},
     "output_type": "display_data"
    },
    {
     "name": "stdout",
     "output_type": "stream",
     "text": [
      "root\n",
      " |-- journal_id: string (nullable = true)\n",
      " |-- avg(score): double (nullable = true)"
     ]
    }
   ],
   "source": [
    "from pyspark.sql.types import DoubleType\n",
    "# load the full jorunal influence number csv file and compute the average influence number for each journal that from different subfields\n",
    "journal_score = spark.read.csv(\"s3://cse6242-hchen703/project_output/journal_IN.csv\", header=True, inferSchema=True)\n",
    "journal_change_type = journal_score.withColumn(\"score\",journal_score.score.cast('double'))\n",
    "journal_IN = journal_change_type.groupBy(\"journal_id\").agg({\"score\":\"avg\"})"
   ]
  },
  {
   "cell_type": "code",
   "execution_count": 27,
   "id": "2187b82e-6eec-4144-aba3-22270c526bcb",
   "metadata": {
    "execution": {
     "iopub.execute_input": "2022-04-24T10:25:01.071780Z",
     "iopub.status.busy": "2022-04-24T10:25:01.071538Z",
     "iopub.status.idle": "2022-04-24T10:25:01.344578Z",
     "shell.execute_reply": "2022-04-24T10:25:01.343985Z",
     "shell.execute_reply.started": "2022-04-24T10:25:01.071757Z"
    },
    "tags": [],
    "vscode": {
     "languageId": "json"
    }
   },
   "outputs": [
    {
     "data": {
      "application/vnd.jupyter.widget-view+json": {
       "model_id": "a450395b67864fa389871474bfe2cd84",
       "version_major": 2,
       "version_minor": 0
      },
      "text/plain": [
       "VBox()"
      ]
     },
     "metadata": {},
     "output_type": "display_data"
    },
    {
     "data": {
      "application/vnd.jupyter.widget-view+json": {
       "model_id": "",
       "version_major": 2,
       "version_minor": 0
      },
      "text/plain": [
       "FloatProgress(value=0.0, bar_style='info', description='Progress:', layout=Layout(height='25px', width='50%'),…"
      ]
     },
     "metadata": {},
     "output_type": "display_data"
    },
    {
     "name": "stdout",
     "output_type": "stream",
     "text": [
      "root\n",
      " |-- author_id: string (nullable = true)\n",
      " |-- sum(journal_IN): double (nullable = true)"
     ]
    }
   ],
   "source": [
    "add_person1 = add_person1.alias(\"add_person1\")\n",
    "springerdata = springerdata.alias(\"springer\")\n",
    "journal_paper_author = add_person1.join(springerdata, col(\"add_person1.doi\") == col(\"springer.doi\")).select(col(\"springer.doi\"), col(\"springer.journal_id\"), col(\"add_person1.author_id\"))\n",
    "journal_IN = journal_IN.alias(\"IN\") \n",
    "journal_paper_author = journal_paper_author.alias(\"jpa\")\n",
    "add_journal_score = journal_paper_author.join(journal_IN, col(\"jpa.journal_id\") == col(\"IN.journal_id\")).select(col(\"jpa.journal_id\"), col(\"IN.avg(score)\").alias(\"journal_IN\"), col(\"jpa.author_id\")).groupBy(\"author_id\").agg({\"journal_IN\": \"sum\"})"
   ]
  },
  {
   "cell_type": "code",
   "execution_count": null,
   "id": "2616b71f-8100-454a-b6e6-fbfa0bfc9271",
   "metadata": {
    "execution": {
     "iopub.execute_input": "2022-04-24T10:48:28.141728Z",
     "iopub.status.busy": "2022-04-24T10:48:28.141459Z"
    },
    "tags": [],
    "vscode": {
     "languageId": "json"
    }
   },
   "outputs": [
    {
     "data": {
      "application/vnd.jupyter.widget-view+json": {
       "model_id": "f5419c72ffb4435e8f78fe0395f2e576",
       "version_major": 2,
       "version_minor": 0
      },
      "text/plain": [
       "VBox()"
      ]
     },
     "metadata": {},
     "output_type": "display_data"
    },
    {
     "data": {
      "application/vnd.jupyter.widget-view+json": {
       "model_id": "da4adc5668124e8d8fbae8f314456347",
       "version_major": 2,
       "version_minor": 0
      },
      "text/plain": [
       "FloatProgress(value=0.0, bar_style='info', description='Progress:', layout=Layout(height='25px', width='50%'),…"
      ]
     },
     "metadata": {},
     "output_type": "display_data"
    }
   ],
   "source": [
    "# compute the final score of authors and write into the author_score table to be used in our database\n",
    "author_IF = author_IF.alias(\"IF\")\n",
    "add_journal_score = add_journal_score.alias(\"journal_score\")\n",
    "finalscore_temp =  author_IF.join(add_journal_score, col(\"IF.author_id\") == col(\"journal_score.author_id\")).select(col(\"IF.author_id\"), col(\"IF.score\").alias(\"author_IF\"), col(\"journal_score.sum(journal_IN)\").alias(\"journal_IN\"), col(\"IF.field\")).withColumn(\"score\", col(\"author_IF\")+col(\"journal_IN\"))\n",
    "author_finalscore = finalscore_temp.select(col(\"author_id\"), round(col(\"score\"),4).alias(\"score\"), col(\"field\"))\n",
    "author_finalscore.coalesce(1).write.option(\"header\",\"false\").csv(\"s3://cse6242-hchen703/project_database/0101author_score\")"
   ]
  },
  {
   "cell_type": "code",
   "execution_count": null,
   "id": "3e4a1c3a-4bd0-49f3-9204-c3ce053b4a0e",
   "metadata": {
    "tags": [],
    "vscode": {
     "languageId": "json"
    }
   },
   "outputs": [],
   "source": [
    "# join the author info to the author_score dataframe and get the author table for our database\n",
    "author_finalscore = author_finalscore.alias(\"score\")\n",
    "person = person.alias(\"person\")\n",
    "author = author_finalscore.join(person, col(\"person.author_id\") == col(\"score.author_id\")).select(col(\"person.author_id\"), col(\"person.author_name\"), col(\"person.affiliation_id\")).distinct()\n",
    "author.printSchema()\n",
    "author.coalesce(1).write.option(\"header\",\"false\").csv(\"s3://cse6242-hchen703/project_database/0101author\")"
   ]
  },
  {
   "cell_type": "code",
   "execution_count": null,
   "id": "20ed9ad1-15ee-491d-89ee-52e52c6f71ef",
   "metadata": {
    "tags": [],
    "vscode": {
     "languageId": "json"
    }
   },
   "outputs": [],
   "source": [
    "# join all the publication info to the author table and get the author _publication table for our database\n",
    "person = person.alias(\"person\")\n",
    "author_finalscore = author_finalscore.alias(\"score\")\n",
    "author_publication = author_finalscore.join(person, col(\"person.author_id\") == col(\"score.author_id\")).select(col(\"score.author_id\"), col(\"person.doi\"))\n",
    "author_publication.printSchema()\n",
    "author_publication.coalesce(1).write.option(\"header\",\"false\").csv(\"s3://cse6242-hchen703/project_database/0101author_publication\")"
   ]
  },
  {
   "cell_type": "code",
   "execution_count": null,
   "id": "ab8e40c2-ba29-4c88-a1a1-7e8b2430fdf6",
   "metadata": {
    "tags": [],
    "vscode": {
     "languageId": "json"
    }
   },
   "outputs": [],
   "source": [
    "# join all the #citation info for each paper and get the articles table for our database\n",
    "springerdata = springerdata.alias(\"springer\")\n",
    "AIdata = AIdata.alias(\"ai\")\n",
    "paper = springerdata.join(AIdata, col(\"springer.doi\") == col(\"ai.doi\")).select(col(\"springer.doi\"),col(\"paper_name\"),col(\"cite_num\"))\n",
    "articles = paper_weight.join(paper, col(\"Source\") == col(\"doi\")).select(col(\"doi\"), col(\"paper_name\"), col(\"cite_num\"))\n",
    "articles.printSchema()\n",
    "articles.coalesce(1).write.option(\"header\",\"false\").csv(\"s3://cse6242-hchen703/project_database/0101articles\")"
   ]
  }
 ],
 "metadata": {
  "kernelspec": {
   "display_name": "PySpark",
   "language": "python",
   "name": "pysparkkernel"
  },
  "language_info": {
   "codemirror_mode": {
    "name": "python",
    "version": 3
   },
   "file_extension": ".py",
   "mimetype": "text/x-python",
   "name": "pyspark",
   "pygments_lexer": "python3"
  }
 },
 "nbformat": 4,
 "nbformat_minor": 5
}
